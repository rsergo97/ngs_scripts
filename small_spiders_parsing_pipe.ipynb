{
 "cells": [
  {
   "cell_type": "code",
   "execution_count": null,
   "metadata": {},
   "outputs": [],
   "source": [
    "import os\n",
    "import os.path\n",
    "import re"
   ]
  },
  {
   "cell_type": "code",
   "execution_count": null,
   "metadata": {},
   "outputs": [],
   "source": [
    "%%bash\n",
    "cd /mnt/students/spiders/genomes/spiders/"
   ]
  },
  {
   "cell_type": "code",
   "execution_count": null,
   "metadata": {},
   "outputs": [],
   "source": [
    "proteins = \"/mnt/students/spiders/Silk_proteins.fasta\"\n",
    "genes = \"/mnt/students/spiders/Silk_genes.fasta\"\n",
    "mRNA = \"/mnt/students/spiders/Silk_mRNA.fasta\"\n",
    "ass1 = \"/mnt/students/spiders/genomes/spiders/Acanthoscurria_geniculata.fna\"\n",
    "ass2 = \"/mnt/students/spiders/genomes/spiders/Loxosceles_reclusa.fna\"\n",
    "ass3 = \"/mnt/students/spiders/genomes/spiders/Anelosimus_studiosus.fna\"\n",
    "ass4 = \"/mnt/students/spiders/genomes/spiders/Trichonephila_clavipes.fna\"\n",
    "ass5 = \"/mnt/students/spiders/genomes/spiders/Stegodyphus_mimosarum.fna\"\n",
    "ass6 = \"/mnt/students/spiders/genomes/spiders/Pardosa_pseudoannulata.fna\"\n",
    "ass7 = \"/mnt/students/spiders/genomes/spiders/Parasteatoda_tepidariorum.fna\"\n",
    "ass8 = \"/mnt/students/spiders/genomes/spiders/Latrodectus_hesperus.fna\"\n",
    "ass9 = \"/mnt/students/spiders/genomes/spiders/Haemaphysalis_longicornis.fna\"\n",
    "ass10 = \"/mnt/students/spiders/genomes/spiders/Dysdera_silvatica.fna\"\n",
    "sco1 = \"/mnt/students/spiders/genomes/scorpions/Androctonus_mauritanicus.fna\"\n",
    "sco2 = \"/mnt/students/spiders/genomes/scorpions/Centruroides_sculpturatus.fna\"\n",
    "sco3 = \"/mnt/students/spiders/genomes/scorpions/Cordylochernes_scorpioides.fna\"\n",
    "sco4 = \"/mnt/students/spiders/genomes/scorpions/Mesobuthus_martensii.fna\"\n",
    "\n",
    "settings = {\"proteins\": proteins,\n",
    "            \"genes\": genes,\n",
    "            \"mRNA\": mRNA,\n",
    "            \"genome1\": ass1,\n",
    "            \"genome2\": ass2,\n",
    "            \"genome3\": ass3,\n",
    "            \"genome4\": ass4,\n",
    "            \"genome5\": ass5,\n",
    "            \"genome6\": ass6,\n",
    "            \"genome7\": ass7,\n",
    "            \"genome8\": ass8,\n",
    "            \"genome9\": ass9,\n",
    "            \"genome10\": ass10,\n",
    "            \"output_file1\": ass1.replace(\".fna\",\"\") + \"_gen.exonerate\",\n",
    "            \"output_file2\": ass2.replace(\".fna\",\"\") + \"_gen.exonerate\",\n",
    "            \"output_file3\": ass3.replace(\".fna\",\"\") + \"_gen.exonerate\",\n",
    "            \"output_file4\":ass4.replace(\".fna\",\"\") + \"_gen.exonerate\",\n",
    "            \"output_file5\":ass5.replace(\".fna\",\"\") + \"_gen.exonerate\",\n",
    "            \"output_file6\":ass6.replace(\".fna\",\"\") + \"_gen.exonerate\",\n",
    "            \"output_file7\":ass7.replace(\".fna\",\"\") + \"_gen.exonerate\",\n",
    "            \"output_file8\":ass8.replace(\".fna\",\"\") + \"_gen.exonerate\",\n",
    "            \"output_file9\":ass9.replace(\".fna\",\"\") + \"_gen.exonerate\",\n",
    "            \"output_file10\":ass10.replace(\".fna\",\"\") + \"_gen.exonerate\",\n",
    "           }\n",
    "           \n",
    "QU_input = { \"genome1\": ass1,\n",
    "            \"genome2\": ass2,\n",
    "            \"genome3\": ass3,\n",
    "            \"genome4\": ass4,\n",
    "            \"genome5\": ass5,\n",
    "            \"genome6\": ass6,\n",
    "            \"genome7\": ass7,\n",
    "            \"genome8\": ass8,\n",
    "            \"genome9\": ass9,\n",
    "            \"genome10\": ass10\n",
    "           }\n",
    "Sco_input = {\"genome1\": sco1,\n",
    "             \"genome2\": sco2,\n",
    "             \"genome3\": sco3,\n",
    "             \"genome4\": sco4\n",
    "            }\n",
    "            \n",
    "QU_output = { \"output_file1\": ass1.replace(\".fna\",\"\"),\n",
    "            \"output_file2\": ass2.replace(\".fna\",\"\"),\n",
    "            \"output_file3\": ass3.replace(\".fna\",\"\"),\n",
    "            \"output_file4\":ass4.replace(\".fna\",\"\"),\n",
    "            \"output_file5\":ass5.replace(\".fna\",\"\"),\n",
    "            \"output_file6\":ass6.replace(\".fna\",\"\"),\n",
    "            \"output_file7\":ass7.replace(\".fna\",\"\"),\n",
    "            \"output_file8\":ass8.replace(\".fna\",\"\"),\n",
    "            \"output_file9\":ass9.replace(\".fna\",\"\"),\n",
    "            \"output_file10\":ass10.replace(\".fna\",\"\"),\n",
    "           }\n",
    "                     \n",
    "           \n",
    "\n",
    "tool1 = {\"exonerate1\":\"exonerate --model est2genome %(genes)s %(genome1)s > %(output_file1)s\",\n",
    "        \"exonerate2\":\"exonerate --model est2genome %(genes)s %(genome2)s > %(output_file2)s\",\n",
    "        \"exonerate3\":\"exonerate --model est2genome %(genes)s %(genome3)s > %(output_file3)s\",\n",
    "        \"exonerate4\":\"exonerate --model est2genome %(genes)s %(genome4)s > %(output_file4)s\",\n",
    "        \"exonerate5\":\"exonerate --model est2genome %(genes)s %(genome5)s > %(output_file5)s\",\n",
    "        \"exonerate6\":\"exonerate --model est2genome %(genes)s %(genome6)s > %(output_file6)s\",\n",
    "        \"exonerate7\":\"exonerate --model est2genome %(genes)s %(genome7)s > %(output_file7)s\",\n",
    "        \"exonerate8\":\"exonerate --model est2genome %(genes)s %(genome8)s > %(output_file8)s\",\n",
    "        \"exonerate9\":\"exonerate --model est2genome %(genes)s %(genome9)s > %(output_file9)s\",\n",
    "        \"exonerate10\":\"exonerate --model est2genome %(genes)s %(genome10)s > %(output_file10)s\"\n",
    "       }\n",
    "\n",
    "\n",
    "       \n"
   ]
  },
  {
   "cell_type": "code",
   "execution_count": null,
   "metadata": {},
   "outputs": [],
   "source": [
    "def iter_filenames(folder, mask=''):\n",
    "    \"\"\" iter over files in folder. Return file name path.\"\"\"\n",
    "    for root, dirs, files in os.walk(folder, topdown=False):\n",
    "        for name in files:\n",
    "            if re.search(mask, name):\n",
    "                apath = os.path.join(root, name)\n",
    "                yield apath"
   ]
  },
  {
   "cell_type": "code",
   "execution_count": null,
   "metadata": {
    "scrolled": false
   },
   "outputs": [],
   "source": [
    "for filepath in iter_filenames(\"/mnt/students/spiders/genomes/ticks/\", mask = \".fna\"):\n",
    "        file = filepath\n",
    "        output_dir = filepath.replace(\".fna\", \"\")\n",
    "        command = \"\"\"\n",
    "        /home/sryaxovsky/anaconda3/bin/quast.py \\\n",
    "        %s \\\n",
    "        --labels \\\n",
    "        --eukaryote \\\n",
    "        --large \\\n",
    "        --threads 60 \\\n",
    "        --fast \\\n",
    "        -o %s\n",
    "        \"\"\" % (file, output_dir)\n",
    "        #print(command)\n",
    "        #os.system(command)"
   ]
  },
  {
   "cell_type": "code",
   "execution_count": null,
   "metadata": {},
   "outputs": [],
   "source": [
    "for filepath in iter_filenames(\"/mnt/students/spiders/genomes/ticks/\", mask = \".fna\"):\n",
    "        file = filepath\n",
    "        output_dir = filepath.replace(\".fna\", \"\") + \"_mRNA.exonerate\"\n",
    "        command = \"exonerate --model est2genome %s %s > %s\" % (mRNA, file, output_dir)\n",
    "        #print(command)\n",
    "        #os.system(command)\n",
    "         "
   ]
  },
  {
   "cell_type": "code",
   "execution_count": null,
   "metadata": {},
   "outputs": [],
   "source": [
    "for filepath in iter_filenames(\"/mnt/students/spiders/genomes/scorpions/\", mask = \".fna\"):\n",
    "        file = filepath\n",
    "        output_dir = filepath.replace(\".fna\", \"\") + \"_protein.exonerate\"\n",
    "        command = \"exonerate --model protein2genome  %s %s > %s\" % (proteins, file, output_dir)\n",
    "        print(command)\n",
    "        os.system(command)\n",
    "            \n",
    "            \n",
    "         "
   ]
  },
  {
   "cell_type": "code",
   "execution_count": null,
   "metadata": {},
   "outputs": [],
   "source": [
    "for filepath in iter_filenames(\"/mnt/students/spiders/genomes/ticks/\", mask = \".fna\"):\n",
    "        file = filepath\n",
    "        output_dir = filepath.replace(\".fna\", \"\") + \"_gen.exonerate\"\n",
    "        command = \"exonerate --model est2genome %s %s > %s\" % (genes, file, output_dir)\n",
    "        #print(command)\n",
    "       # os.system(command)"
   ]
  },
  {
   "cell_type": "code",
   "execution_count": null,
   "metadata": {},
   "outputs": [],
   "source": []
  }
 ],
 "metadata": {
  "kernelspec": {
   "display_name": "Python 3",
   "language": "python",
   "name": "python3"
  },
  "language_info": {
   "codemirror_mode": {
    "name": "ipython",
    "version": 3
   },
   "file_extension": ".py",
   "mimetype": "text/x-python",
   "name": "python",
   "nbconvert_exporter": "python",
   "pygments_lexer": "ipython3",
   "version": "3.8.5"
  }
 },
 "nbformat": 4,
 "nbformat_minor": 2
}
