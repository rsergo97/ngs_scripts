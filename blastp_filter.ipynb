{
 "cells": [
  {
   "cell_type": "code",
   "execution_count": 6,
   "metadata": {},
   "outputs": [],
   "source": [
    "from collections import defaultdict \n",
    "filtered_blast_hits = {}\n",
    "contigs = {}\n",
    "contigs_list = defaultdict(list)\n",
    "\n",
    "## выбираем файлы\n",
    "blastn_file_unisex = \"/mnt/data/lizards/dasha/unisex/parth_unisex_blastn.outf\"\n",
    "blastn_file_val = \"/mnt/data/lizards/dasha/val/parth_val_blastn.outf\"\n",
    "blastn_file_raddei = \"/mnt/data/lizards/dasha/raddei/parth_raddei_blastn.outf\"\n",
    "blastx_file_unisex = \"/mnt/data/lizards/dasha/unisex/parth_unisex_blastx2.outf\"\n",
    "blastx_file_raddei = \"/mnt/data/lizards/dasha/raddei/parth_raddei_blastx2.outf\"\n",
    "blastx_file_val = \"/mnt/data/lizards/dasha/val/parth_val_blastx2.outf\"\n",
    "vika_blast = \"/mnt/data/lizards/dasha/valentini_blastx.outfmt6\"\n",
    "\n",
    "## берем все мейотические белки из бласта и считаем сколько их в каждой сборке \n",
    "raddei_dic = {}\n",
    "with open(blastn_file_raddei) as br:\n",
    "    for line in br:\n",
    "        line = line.split() \n",
    "        if line[0] in raddei_dic:\n",
    "            raddei_dic[line[0]] += 1\n",
    "        else:\n",
    "            raddei_dic[line[0]] = 0\n",
    "\n",
    "valentini_dic = {}\n",
    "with open(blastn_file_val) as bv:\n",
    "    for line in bv:\n",
    "        line = line.split() \n",
    "        if line[0] in valentini_dic:\n",
    "            valentini_dic[line[0]] += 1\n",
    "        else:\n",
    "            valentini_dic[line[0]] = 0\n",
    "\n",
    "unisex_dic = {}\n",
    "with open(blastn_file_unisex) as bu:\n",
    "    for line in bu:\n",
    "        line = line.split() \n",
    "        if line[0] in unisex_dic:\n",
    "            unisex_dic[line[0]] += 1\n",
    "        else:\n",
    "            unisex_dic[line[0]] = 0"
   ]
  },
  {
   "cell_type": "code",
   "execution_count": 3,
   "metadata": {},
   "outputs": [],
   "source": [
    "### берем все контиги, убираем повторы и считаем сколько таргетных белков в контретном котниге\n",
    "with open(blastn_file_unisex) as bu1:\n",
    "    for line in bu1:\n",
    "        line = line.split()\n",
    "        #print(line)\n",
    "        contigs_list[line[1]].append(line[0])\n",
    "        \n",
    "#for key, value in contigs_list.items():\n",
    "  #  print(key)        \n"
   ]
  },
  {
   "cell_type": "code",
   "execution_count": 1,
   "metadata": {},
   "outputs": [],
   "source": [
    "#print(*raddei_dic.values(), sep = '\\n')\n",
    "#print(*raddei_dic.keys(), sep = \"\\n\")"
   ]
  },
  {
   "cell_type": "code",
   "execution_count": null,
   "metadata": {},
   "outputs": [],
   "source": [
    "\n",
    "\n"
   ]
  },
  {
   "cell_type": "code",
   "execution_count": null,
   "metadata": {},
   "outputs": [],
   "source": []
  },
  {
   "cell_type": "code",
   "execution_count": null,
   "metadata": {},
   "outputs": [],
   "source": []
  },
  {
   "cell_type": "code",
   "execution_count": null,
   "metadata": {},
   "outputs": [],
   "source": []
  }
 ],
 "metadata": {
  "kernelspec": {
   "display_name": "Python 3",
   "language": "python",
   "name": "python3"
  },
  "language_info": {
   "codemirror_mode": {
    "name": "ipython",
    "version": 3
   },
   "file_extension": ".py",
   "mimetype": "text/x-python",
   "name": "python",
   "nbconvert_exporter": "python",
   "pygments_lexer": "ipython3",
   "version": "3.8.5"
  }
 },
 "nbformat": 4,
 "nbformat_minor": 4
}
