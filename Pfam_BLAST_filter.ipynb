{
 "cells": [
  {
   "cell_type": "code",
   "execution_count": 22,
   "metadata": {},
   "outputs": [],
   "source": [
    "## средняя длина контига \n",
    "from collections import defaultdict\n",
    "transcript = \"/mnt/data/lizards/2020_ass/dval/dv1/trinity.Trinity.fasta\"\n",
    "contigs = []\n",
    "contigs_len = []\n",
    "final_raddei = defaultdict(list)\n",
    "final_unisex = defaultdict(list)\n",
    "with open(transcript) as tr:\n",
    "    for line in tr:\n",
    "        line = line.split()\n",
    "        if line[0].startswith(\">\"):\n",
    "            continue\n",
    "        else:\n",
    "            contigs.append(str(line))\n",
    "            \n",
    "for c in contigs:\n",
    "    contigs_len.append(len(c))\n",
    "    \n",
    "print(sum(contigs_len) / len(contigs_len))\n"
   ]
  },
  {
   "cell_type": "code",
   "execution_count": null,
   "metadata": {},
   "outputs": [],
   "source": [
    "## определяем файл PFAM \n",
    "pfam_filtered = []\n",
    "final = defaultdict(list)\n",
    "pfam = \"/mnt/data/lizards/2020_ass/duni/15/TransPi_results/transdecoder/duni_Trinity.pfam.domtblout\"\n",
    "n = 0\n",
    "with open(pfam) as pf:\n",
    "    for line in pf:\n",
    "        line = line.split() \n",
    "        if \"TRINITY_\" in line[3]:\n",
    "            if float(line[6]) <= 1e-5:\n",
    "                #print(line)\n",
    "                pfam_filtered.append(line)\n",
    "                n +=1 \n",
    "            else:\n",
    "                continue\n",
    "        else:\n",
    "            continue\n",
    "            \n"
   ]
  },
  {
   "cell_type": "code",
   "execution_count": 24,
   "metadata": {},
   "outputs": [],
   "source": [
    "for gene in pfam_filtered:\n",
    "    final[gene[0]].append(gene[1:])\n",
    "        #print(gene[0])\n",
    "\n",
    "for g in final.keys():\n",
    "    print(g)\n",
    "    \n",
    "\n",
    "    "
   ]
  },
  {
   "cell_type": "code",
   "execution_count": 117,
   "metadata": {},
   "outputs": [],
   "source": [
    "### определяем файл blast \n",
    "blastp_file = \"/mnt/data/lizards/2020_ass/drad/dn4/TransPi_results/transdecoder/dn4.Trinity.diamond_blastp.outfmt6\"\n",
    "blast_hits = []\n",
    "with open(blastp_file) as bf:\n",
    "    for line in bf:\n",
    "        line = line.split()\n",
    "        #print(line)\n",
    "        blast_hits.append(line[0])"
   ]
  },
  {
   "cell_type": "code",
   "execution_count": null,
   "metadata": {},
   "outputs": [],
   "source": [
    "### попробуем расшифровать blast\n",
    "counter = 0\n",
    "test_dic = {}\n",
    "with open(pfam) as pf:\n",
    "    for line in pf:\n",
    "        line = line.split()\n",
    "        if \"TRINITY_\" in line[3]:\n",
    "            if float(line[6]) <= 1e-5:\n",
    "                #print(line)\n",
    "                test_dic[line[3]] = line[0]\n",
    "\n"
   ]
  },
  {
   "cell_type": "code",
   "execution_count": 120,
   "metadata": {},
   "outputs": [],
   "source": [
    "filtered_blast_genes = []\n",
    "with open(blastp_file) as bf1:\n",
    "    for line in bf1:\n",
    "        line = line.split()\n",
    "        #print(line)\n",
    "        if float(line[2]) > 95:\n",
    "            if line[0] in test_dic.keys():\n",
    "                #print(test_dic[line[0]])\n",
    "                filtered_blast_genes.append(test_dic[line[0]])\n",
    "                \n",
    "### удаляем парные гены\n",
    "from itertools import groupby\n",
    "filtered_blast_genes = [el for el, _ in groupby(filtered_blast_genes)]\n",
    "print(len(filtered_blast_genes))\n",
    "\n",
    "for gen in filtered_blast_genes:\n",
    "    #print(gen)"
   ]
  },
  {
   "cell_type": "code",
   "execution_count": null,
   "metadata": {},
   "outputs": [],
   "source": []
  },
  {
   "cell_type": "code",
   "execution_count": null,
   "metadata": {},
   "outputs": [],
   "source": []
  },
  {
   "cell_type": "code",
   "execution_count": null,
   "metadata": {},
   "outputs": [],
   "source": []
  },
  {
   "cell_type": "code",
   "execution_count": null,
   "metadata": {},
   "outputs": [],
   "source": []
  }
 ],
 "metadata": {
  "kernelspec": {
   "display_name": "Python 3",
   "language": "python",
   "name": "python3"
  },
  "language_info": {
   "codemirror_mode": {
    "name": "ipython",
    "version": 3
   },
   "file_extension": ".py",
   "mimetype": "text/x-python",
   "name": "python",
   "nbconvert_exporter": "python",
   "pygments_lexer": "ipython3",
   "version": "3.8.5"
  }
 },
 "nbformat": 4,
 "nbformat_minor": 4
}
