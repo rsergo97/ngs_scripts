{
 "cells": [
  {
   "cell_type": "code",
   "execution_count": 13,
   "metadata": {},
   "outputs": [
    {
     "name": "stdout",
     "output_type": "stream",
     "text": [
      "24\n",
      "24\n",
      "Protein 24\n",
      "LOCUS       CCD78_MOUSE              437 aa            linear   ROD 12-AUG-2020\n",
      "DEFINITION  RecName:\n",
      "LOCUS       PLK4_DANRE               940 aa            linear   VRT 07-OCT-2020\n",
      "DEFINITION  RecName:\n",
      "LOCUS       PLK4_XENTR               946 aa            linear   VRT 07-OCT-2020\n",
      "DEFINITION  RecName:\n",
      "LOCUS       PLK4_RAT                 924 aa            linear   ROD 07-OCT-2020\n",
      "DEFINITION  RecName:\n",
      "LOCUS       PLK4_BOVIN               893 aa            linear   MAM 07-OCT-2020\n",
      "DEFINITION  RecName:\n",
      "LOCUS       PLK4_HUMAN               970 aa            linear   PRI 07-OCT-2020\n",
      "DEFINITION  RecName:\n",
      "LOCUS       CCD78_HUMAN              438 aa            linear   PRI 07-OCT-2020\n",
      "DEFINITION  RecName:\n",
      "LOCUS       PLK4_XENLA               944 aa            linear   VRT 07-OCT-2020\n",
      "DEFINITION  RecName:\n",
      "LOCUS       CCD78_XENLA              559 aa            linear   VRT 12-AUG-2020\n",
      "DEFINITION  RecName:\n",
      "LOCUS       PLK4_PONAB               970 aa            linear   PRI 07-OCT-2020\n",
      "DEFINITION  RecName:\n",
      "LOCUS       PLK4_MOUSE               925 aa            linear   ROD 07-OCT-2020\n",
      "DEFINITION  RecName:\n",
      "LOCUS       DEUP1_XENTR              596 aa            linear   VRT 07-OCT-2020\n",
      "DEFINITION  RecName:\n",
      "LOCUS       CE152_MOUSE             1736 aa            linear   ROD 12-AUG-2020\n",
      "DEFINITION  RecName:\n",
      "LOCUS       CE152_HUMAN             1710 aa            linear   PRI 12-AUG-2020\n",
      "DEFINITION  RecName:\n",
      "LOCUS       DEUP1_MOUSE              601 aa            linear   ROD 12-AUG-2020\n",
      "DEFINITION  RecName:\n",
      "LOCUS       CEP63_DANRE              716 aa            linear   VRT 07-OCT-2020\n",
      "DEFINITION  RecName:\n",
      "LOCUS       CEP63_MOUSE              700 aa            linear   ROD 12-AUG-2020\n",
      "DEFINITION  RecName:\n",
      "LOCUS       CEP63_CHICK              711 aa            linear   VRT 12-AUG-2020\n",
      "DEFINITION  RecName:\n",
      "LOCUS       DEUP1_RAT                601 aa            linear   ROD 12-AUG-2020\n",
      "DEFINITION  RecName:\n",
      "LOCUS       DEUP1_MACFA              603 aa            linear   PRI 12-AUG-2020\n",
      "DEFINITION  RecName:\n",
      "LOCUS       DEUP1_HUMAN              604 aa            linear   PRI 07-OCT-2020\n",
      "DEFINITION  RecName:\n",
      "LOCUS       CE152_XENLA             1663 aa            linear   VRT 12-AUG-2020\n",
      "DEFINITION  RecName:\n",
      "LOCUS       CEP63_RAT                538 aa            linear   ROD 12-AUG-2020\n",
      "DEFINITION  RecName:\n",
      "LOCUS       CEP63_HUMAN              703 aa            linear   PRI 07-OCT-2020\n",
      "DEFINITION  RecName:\n"
     ]
    }
   ],
   "source": [
    "### all corona\n",
    "from Bio import Entrez\n",
    "Entrez.email = \"ad3002@gmail.com\"\n",
    "\n",
    "db = \"Protein\"\n",
    "query = \"GO:0098535\"\n",
    "start = 0\n",
    "all_mtDNAs = []\n",
    "while True:\n",
    "    handle = Entrez.esearch(db=db, retmax=500, retstart=start, term=query)\n",
    "    record = Entrez.read(handle)\n",
    "    start += 500\n",
    "    handle.close()\n",
    "    all_mtDNAs += record[\"IdList\"]\n",
    "    print(len(all_mtDNAs)),\n",
    "    if len(record[\"IdList\"]) == 0:\n",
    "        break\n",
    "print(db, len(all_mtDNAs))\n",
    "\n",
    "\n",
    "mtDNA_dataset = {}\n",
    "for gid in all_mtDNAs:\n",
    "    handle = Entrez.efetch(db=db, id=gid, rettype=\"gb\", retmode=\"text\")\n",
    "    mtDNA_dataset[gid] = handle.read()\n",
    "    print(mtDNA_dataset[gid][:100])"
   ]
  },
  {
   "cell_type": "code",
   "execution_count": null,
   "metadata": {},
   "outputs": [],
   "source": []
  }
 ],
 "metadata": {
  "kernelspec": {
   "display_name": "Python 3",
   "language": "python",
   "name": "python3"
  },
  "language_info": {
   "codemirror_mode": {
    "name": "ipython",
    "version": 3
   },
   "file_extension": ".py",
   "mimetype": "text/x-python",
   "name": "python",
   "nbconvert_exporter": "python",
   "pygments_lexer": "ipython3",
   "version": "3.8.5"
  }
 },
 "nbformat": 4,
 "nbformat_minor": 4
}
