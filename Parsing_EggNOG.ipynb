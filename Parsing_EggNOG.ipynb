{
 "cells": [
  {
   "cell_type": "code",
   "execution_count": null,
   "metadata": {},
   "outputs": [],
   "source": [
    "u_annotation = \"/media/eternus1/nfs/projects/shared/emapp_pep_unisex.emapper.annotations\"\n",
    "r_annotation = \"/media/eternus1/nfs/projects/shared/emapp_pep_raddei.emapper.annotations\"\n",
    "v_annotation = \"/media/eternus1/nfs/projects/shared/emapp_pep_val.emapper.annotations\"\n",
    "u_meiotic_genes, v_meiotic_genes, r_meiotic_genes = [], [], []\n",
    "with open(u_annotation) as uan:\n",
    "    for line in uan:\n",
    "        #line = line.split()\n",
    "        if \"meios\"  in line or \"meiotic\" in line or \"meiosis\" in line:\n",
    "            line = line.split()\n",
    "            u_meiotic_genes.append(line[0])\n",
    "            print(line)\n",
    "with open(r_annotation) as ran:\n",
    "    for line in ran:\n",
    "        #line = line.split()\n",
    "        if \"meios\" in line or \"meiotic\" in line or \"meiosis\" in line:\n",
    "            line = line.split()\n",
    "            r_meiotic_genes.append(line[0])     \n",
    "            #print(line)\n",
    "with open(v_annotation) as van:\n",
    "    for line in van:\n",
    "        #line = line.split()\n",
    "        if \"meios\" in line or \"meiotic\" in line or \"meiosis\" in line:\n",
    "            line = line.split()\n",
    "            v_meiotic_genes.append(line[0]) \n",
    "            #print(line)"
   ]
  },
  {
   "cell_type": "code",
   "execution_count": null,
   "metadata": {},
   "outputs": [],
   "source": [
    "common = []\n"
   ]
  },
  {
   "cell_type": "code",
   "execution_count": null,
   "metadata": {
    "scrolled": true
   },
   "outputs": [],
   "source": [
    "\"\"\"\"\"\n",
    "for ug in u_meiotic_genes:\n",
    "    if ug in v_meiotic_genes and ug in r_meiotic_genes or ug in v_meiotic_genes or ug in r_meiotic_genes:\n",
    "        common.append(ug)\n",
    "        print(ug)\n",
    "for vg in v_meiotic_genes:\n",
    "    if vg in u_meiotic_genes and vg in v_meiotic_genes or vg in u_meiotic_genes or vg in v_meiotic_genes:\n",
    "        common.append(vg)\n",
    "        print(vg)\n",
    "for rd in r_meiotic_genes:\n",
    "    if rd in v_meiotic_genes and rd in u_meiotic_genes or rd in v_meiotic_genes or rd in u_meiotic_genes:\n",
    "        common.append(rd)\n",
    "        print(vg)\n",
    "\"\"\"\"\""
   ]
  },
  {
   "cell_type": "code",
   "execution_count": null,
   "metadata": {},
   "outputs": [],
   "source": [
    "val_futureCounts = \"/media/eternus1/nfs/projects/shared/featureCounts/val_counts.txt.fc\"\n",
    "rad_futureCounts = \"/media/eternus1/nfs/projects/shared/featureCounts/rad_counts.txt.fc\"\n",
    "uni_futureCounts = \"/media/eternus1/nfs/projects/shared/featureCounts/uni_counts.txt.fc\"\n",
    "uni_dic = {}\n",
    "val_dic = {}\n",
    "rad_dic = {}\n",
    "common_dic ={}"
   ]
  },
  {
   "cell_type": "code",
   "execution_count": null,
   "metadata": {},
   "outputs": [],
   "source": [
    "v_counter = 0\n",
    "with open(val_futureCounts) as vfc:\n",
    "    for count in vfc:\n",
    "        count = count.split()\n",
    "        if \"TRINITY\" in count[0]:\n",
    "            if count[0] in v_meiotic_genes:\n",
    "                #print(count)\n",
    "                val_dic[count[0]] = int(count[-1])\n",
    "                v_counter += 1"
   ]
  },
  {
   "cell_type": "code",
   "execution_count": null,
   "metadata": {},
   "outputs": [],
   "source": [
    "r_counter = 0\n",
    "with open(rad_futureCounts) as rfc:\n",
    "    for count in rfc:\n",
    "        count = count.split()\n",
    "        if \"TRINITY\" in count[0]:\n",
    "            if count[0] in r_meiotic_genes:\n",
    "                #print(count)\n",
    "                rad_dic[count[0]] = int(count[-1])\n",
    "                r_counter += 1"
   ]
  },
  {
   "cell_type": "code",
   "execution_count": null,
   "metadata": {
    "scrolled": true
   },
   "outputs": [],
   "source": [
    "u_counter = 0\n",
    "with open(uni_futureCounts) as ufc:\n",
    "    for count in ufc:\n",
    "        count = count.split()\n",
    "        if \"TRINITY\" in count[0]:\n",
    "            if count[0] in u_meiotic_genes:\n",
    "                #print(count)\n",
    "                uni_dic[count[0]] = int(count[-1])\n",
    "                u_counter += 1"
   ]
  },
  {
   "cell_type": "code",
   "execution_count": null,
   "metadata": {},
   "outputs": [],
   "source": [
    "with open(u_annotation) as uan2:\n",
    "    for line in uan2:\n",
    "        line = line.split()\n",
    "        if \"MLH1\" in line:\n",
    "            print(line)"
   ]
  },
  {
   "cell_type": "code",
   "execution_count": null,
   "metadata": {},
   "outputs": [],
   "source": [
    "for i, d in enumerate([val_dic, rad_dic, uni_dic]):\n",
    "    for name in d:\n",
    "        if name not in common_dic:\n",
    "            common_dic[name] = [0,0,0]\n",
    "        common_dic[name][i] = d[name]"
   ]
  },
  {
   "cell_type": "code",
   "execution_count": null,
   "metadata": {},
   "outputs": [],
   "source": [
    "n = 0\n",
    "for key, value in common_dic.items():\n",
    "    if int(value[0]) == 0 and int(value[1]) == 0 and int(value[2]) == 0:\n",
    "        continue\n",
    "    else:\n",
    "        print(key, *value)\n",
    "        n += 1"
   ]
  },
  {
   "cell_type": "code",
   "execution_count": null,
   "metadata": {},
   "outputs": [],
   "source": [
    "\"\"\"\"\n",
    "for ug in u_meiotic_genes:\n",
    "    if ug in v_meiotic_genes and ug in r_meiotic_genes or ug in v_meiotic_genes or ug in r_meiotic_genes:\n",
    "        common.append(ug)\n",
    "        print(ug)\n",
    "for vg in v_meiotic_genes:\n",
    "    if vg in u_meiotic_genes and vg in v_meiotic_genes or vg in u_meiotic_genes or vg in v_meiotic_genes:\n",
    "        common.append(vg)\n",
    "        print(vg)\n",
    "for rd in r_meiotic_genes:\n",
    "    if rd in v_meiotic_genes and rd in u_meiotic_genes or rd in v_meiotic_genes or rd in u_meiotic_genes:\n",
    "        common.append(rd)\n",
    "        print(vg)\n",
    "\"\"\"\""
   ]
  },
  {
   "cell_type": "code",
   "execution_count": null,
   "metadata": {},
   "outputs": [],
   "source": [
    "#### пробуем через совместный список futureCounts по ВСЕМ генам\n",
    "merged_futureCounts = \"/home/sryaxovsky/FINAL_GENE_EXPRESSION_text.txt\"\n"
   ]
  },
  {
   "cell_type": "code",
   "execution_count": null,
   "metadata": {
    "scrolled": true
   },
   "outputs": [],
   "source": [
    "with open(merged_futureCounts) as mfc:\n",
    "    for line in mfc:\n",
    "        line = line.split(\",\")\n",
    "        if \"TRINITY\" in line[0]:\n",
    "            if line[0] in common_dic.keys():\n",
    "                print(line[0], *common_dic.get(line[0]))"
   ]
  },
  {
   "cell_type": "code",
   "execution_count": null,
   "metadata": {},
   "outputs": [],
   "source": [
    "with open(merged_futureCounts) as mfc:\n",
    "    for line in mfc:\n",
    "        line = line.split(\",\")\n",
    "        if line[0] in val_dic.keys():\n",
    "            print(*line, sep = \",\")"
   ]
  },
  {
   "cell_type": "code",
   "execution_count": null,
   "metadata": {},
   "outputs": [],
   "source": [
    "with open(merged_futureCounts) as mfc:\n",
    "    for line in mfc:\n",
    "        line = line.split(\",\")\n",
    "        if line[0] in r_meiotic_genes:\n",
    "            print(*line, sep = \",\")"
   ]
  },
  {
   "cell_type": "code",
   "execution_count": null,
   "metadata": {
    "scrolled": true
   },
   "outputs": [],
   "source": [
    "with open(merged_futureCounts) as mfc:\n",
    "    for line in mfc:\n",
    "        line = line.split(\",\")\n",
    "        if line[0] in u_meiotic_genes:\n",
    "            print(*line, sep = \",\")"
   ]
  },
  {
   "cell_type": "code",
   "execution_count": null,
   "metadata": {},
   "outputs": [],
   "source": [
    "uni_dic.get(\"TRINITY_DN2438_c0_g2_i3.p1\")"
   ]
  },
  {
   "cell_type": "code",
   "execution_count": null,
   "metadata": {},
   "outputs": [],
   "source": [
    "##### после Леши\n",
    "u_mlh1, v_mlh1, r_mlh1 = [], [], []\n",
    "with open(u_annotation) as uan2:\n",
    "    for line in uan2:\n",
    "        line = line.split()\n",
    "        if \"PPP2R1A\" in line:\n",
    "            u_mlh1.append(line[0])\n",
    "with open(r_annotation) as ran2:\n",
    "    for line in ran2:\n",
    "        line = line.split()\n",
    "        if \"PPP2R1A\" in line:\n",
    "            r_mlh1.append(line[0])\n",
    "with open(v_annotation) as van2:\n",
    "    for line in van2:\n",
    "        line = line.split()\n",
    "        if \"PPP2R1A\" in line:\n",
    "            v_mlh1.append(line[0])\n",
    "                                "
   ]
  },
  {
   "cell_type": "code",
   "execution_count": null,
   "metadata": {
    "scrolled": false
   },
   "outputs": [],
   "source": [
    "fcfile = \"/media/eternus1/nfs/projects/shared/lizard.filtered.counts2.csv\"\n",
    "with open(fcfile) as fc:\n",
    "    for line in fc:\n",
    "        line = line.split(\",\")\n",
    "        if line[0] != \"\":\n",
    "            if line[0][4:] in u_meiotic_genes or line[0][4:] in r_meiotic_genes or line[0][4:] in v_meiotic_genes:\n",
    "                print(*line, sep=\",\")"
   ]
  },
  {
   "cell_type": "code",
   "execution_count": null,
   "metadata": {},
   "outputs": [],
   "source": [
    "with open(val_futureCounts) as sk:\n",
    "    for line in sk:\n",
    "        line = line.split()\n",
    "        if \"TRINITY_DN11379_c0_g1_i3.p1\" in line[0]:\n",
    "            print(*line)"
   ]
  },
  {
   "cell_type": "code",
   "execution_count": null,
   "metadata": {},
   "outputs": [],
   "source": [
    "with open(v_annotation) as uan23:\n",
    "    for line in uan23:\n",
    "        line = line.split()\n",
    "        if \"TRINITY_DN670_c0_g1\" in line[0]:\n",
    "            print(line)"
   ]
  },
  {
   "cell_type": "code",
   "execution_count": null,
   "metadata": {},
   "outputs": [],
   "source": []
  },
  {
   "cell_type": "code",
   "execution_count": null,
   "metadata": {},
   "outputs": [],
   "source": []
  }
 ],
 "metadata": {
  "kernelspec": {
   "display_name": "Python 3",
   "language": "python",
   "name": "python3"
  },
  "language_info": {
   "codemirror_mode": {
    "name": "ipython",
    "version": 3
   },
   "file_extension": ".py",
   "mimetype": "text/x-python",
   "name": "python",
   "nbconvert_exporter": "python",
   "pygments_lexer": "ipython3",
   "version": "3.8.5"
  }
 },
 "nbformat": 4,
 "nbformat_minor": 4
}
